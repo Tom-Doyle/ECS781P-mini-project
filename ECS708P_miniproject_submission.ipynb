{
  "nbformat": 4,
  "nbformat_minor": 0,
  "metadata": {
    "colab": {
      "name": "ECS708P_miniproject_submission",
      "provenance": [],
      "collapsed_sections": [],
      "include_colab_link": true
    },
    "kernelspec": {
      "name": "python3",
      "display_name": "Python 3"
    }
  },
  "cells": [
    {
      "cell_type": "markdown",
      "metadata": {
        "id": "view-in-github",
        "colab_type": "text"
      },
      "source": [
        "<a href=\"https://colab.research.google.com/github/Tom-Doyle/ECS781P-mini-project/blob/main/ECS708P_miniproject_submission.ipynb\" target=\"_parent\"><img src=\"https://colab.research.google.com/assets/colab-badge.svg\" alt=\"Open In Colab\"/></a>"
      ]
    },
    {
      "cell_type": "markdown",
      "metadata": {
        "id": "33_B-ldDkHaP"
      },
      "source": [
        "# ECS708P mini-project submission\n",
        "\n",
        "**Student name:** Tom Doyle\n",
        "\n",
        "**Student ID:** 200588104\n",
        "\n",
        "**Brief summary:** This notebook contains two parts. Part I comprises a basic solution for predicting the intonation of a short audio segment and Part II comprises a more advanced solution for predicting bingo numbers from a short audio segment. \n"
      ]
    },
    {
      "cell_type": "markdown",
      "metadata": {
        "id": "fC-22UBGXn-1"
      },
      "source": [
        "## Environment set up\n",
        "\n",
        "In this section we will set up a Colab environment for the MLEnd mini-project, which we will use for both solutions. Before starting this, I already compeleted the steps below: \n",
        "\n",
        "1.   Go to https://drive.google.com/\n",
        "2.   Create a folder named 'Data' in 'MyDrive'. On the left, click 'New' > 'Folder', enter the name 'Data', and click 'create'\n",
        "3.   Open the 'Data' folder and create a folder named 'MLEnd'.\n",
        "4.   Move the file 'trainingMLEnd.csv' to the newly created folder 'MyDrive/Data/MLEnd'.\n",
        "\n"
      ]
    },
    {
      "cell_type": "code",
      "metadata": {
        "id": "ljcp4K-8_jBl",
        "colab": {
          "base_uri": "https://localhost:8080/"
        },
        "outputId": "0f89c1bd-dbf1-42fc-a05f-6e2e0beb640a"
      },
      "source": [
        "from google.colab import drive\n",
        "\n",
        "import numpy as np\n",
        "import pandas as pd\n",
        "import matplotlib.pyplot as plt\n",
        "\n",
        "import os, sys, re, pickle, glob\n",
        "import urllib.request\n",
        "import zipfile\n",
        "\n",
        "#from IPython.display import Audio\n",
        "import IPython.display as ipd\n",
        "from tqdm import tqdm\n",
        "import librosa\n",
        "drive.mount('/content/drive')"
      ],
      "execution_count": 2,
      "outputs": [
        {
          "output_type": "stream",
          "text": [
            "Mounted at /content/drive\n"
          ],
          "name": "stdout"
        }
      ]
    },
    {
      "cell_type": "markdown",
      "metadata": {
        "id": "_T6M5_YX_ocz"
      },
      "source": [
        "Run the following cell to check that the MLEnd folder contains the file 'trainingMLEnd.csv':"
      ]
    },
    {
      "cell_type": "code",
      "metadata": {
        "colab": {
          "base_uri": "https://localhost:8080/"
        },
        "id": "cRt-3PAS_lWk",
        "outputId": "f1239994-84c3-455b-e594-3605e266aa32"
      },
      "source": [
        "path = '/content/drive/MyDrive/Data/MLEnd'\n",
        "os.listdir(path)"
      ],
      "execution_count": 3,
      "outputs": [
        {
          "output_type": "execute_result",
          "data": {
            "text/plain": [
              "['trainingMLEnd.csv', 'training', 'training.zip']"
            ]
          },
          "metadata": {
            "tags": []
          },
          "execution_count": 3
        }
      ]
    },
    {
      "cell_type": "markdown",
      "metadata": {
        "id": "A8QFyq3l4i4z"
      },
      "source": [
        "## Data download\n",
        "\n",
        "In this section, we download the data needed for both solutions.\n",
        "\n",
        "First, we define a function that allows us to download a file into a chosen location."
      ]
    },
    {
      "cell_type": "code",
      "metadata": {
        "id": "0nKc1B94y0aq"
      },
      "source": [
        "def download_url(url, save_path):\n",
        "    with urllib.request.urlopen(url) as dl_file:\n",
        "        with open(save_path, 'wb') as out_file:\n",
        "            out_file.write(dl_file.read())"
      ],
      "execution_count": 4,
      "outputs": []
    },
    {
      "cell_type": "markdown",
      "metadata": {
        "id": "RZNLz6L3WpdF"
      },
      "source": [
        "Then we download the file 'training.zip' into the folder 'MyDrive/Data/MLEnd'."
      ]
    },
    {
      "cell_type": "code",
      "metadata": {
        "id": "oktKxPugzdF3"
      },
      "source": [
        "url  = \"https://collect.qmul.ac.uk/down?t=6H8231DQL1NGDI9A/613DLM2R3OFV5EEH9INK2OG\"\n",
        "save_path = '/content/drive/MyDrive/Data/MLEnd/training.zip'\n",
        "download_url(url, save_path)"
      ],
      "execution_count": 5,
      "outputs": []
    },
    {
      "cell_type": "markdown",
      "metadata": {
        "id": "E2qHL-drXD5t"
      },
      "source": [
        "Finally, we unzip the training file."
      ]
    },
    {
      "cell_type": "code",
      "metadata": {
        "id": "Y6Hp5EPkzEY_"
      },
      "source": [
        "directory_to_extract_to = '/content/drive/MyDrive/Data/MLEnd/training/'\n",
        "with zipfile.ZipFile(save_path, 'r') as zip_ref:\n",
        "    zip_ref.extractall(directory_to_extract_to)"
      ],
      "execution_count": null,
      "outputs": []
    },
    {
      "cell_type": "markdown",
      "metadata": {
        "id": "_r7X24B_c0tx"
      },
      "source": [
        "We now have all the audio files in the location 'MyDrive/Data/MLEnd/training/training'. \n",
        "\n",
        "We can check the total number of audio files in our dataset (20,000):"
      ]
    },
    {
      "cell_type": "code",
      "metadata": {
        "colab": {
          "base_uri": "https://localhost:8080/"
        },
        "id": "QzmxLI3Evf-G",
        "outputId": "ec125d2f-fa2a-4c10-8124-468c08110e3d"
      },
      "source": [
        "files = glob.glob('/content/drive/MyDrive/Data/MLEnd/training/*/*.wav')\n",
        "len(files)"
      ],
      "execution_count": 10,
      "outputs": [
        {
          "output_type": "execute_result",
          "data": {
            "text/plain": [
              "20000"
            ]
          },
          "metadata": {
            "tags": []
          },
          "execution_count": 10
        }
      ]
    },
    {
      "cell_type": "markdown",
      "metadata": {
        "id": "BvLtzvuEeAgC"
      },
      "source": [
        "Next, we load the contents of 'trainingMLEnd.csv' into a pandas DataFrame."
      ]
    },
    {
      "cell_type": "code",
      "metadata": {
        "id": "VSe9A-XN5Kj6",
        "colab": {
          "base_uri": "https://localhost:8080/",
          "height": 419
        },
        "outputId": "45bee85d-cf3b-4e2b-8db8-4e968e331f03"
      },
      "source": [
        "labels = pd.read_csv('/content/drive/MyDrive/Data/MLEnd/trainingMLEnd.csv')\n",
        "labels"
      ],
      "execution_count": 11,
      "outputs": [
        {
          "output_type": "execute_result",
          "data": {
            "text/html": [
              "<div>\n",
              "<style scoped>\n",
              "    .dataframe tbody tr th:only-of-type {\n",
              "        vertical-align: middle;\n",
              "    }\n",
              "\n",
              "    .dataframe tbody tr th {\n",
              "        vertical-align: top;\n",
              "    }\n",
              "\n",
              "    .dataframe thead th {\n",
              "        text-align: right;\n",
              "    }\n",
              "</style>\n",
              "<table border=\"1\" class=\"dataframe\">\n",
              "  <thead>\n",
              "    <tr style=\"text-align: right;\">\n",
              "      <th></th>\n",
              "      <th>File ID</th>\n",
              "      <th>digit_label</th>\n",
              "      <th>participant</th>\n",
              "      <th>intonation</th>\n",
              "    </tr>\n",
              "  </thead>\n",
              "  <tbody>\n",
              "    <tr>\n",
              "      <th>0</th>\n",
              "      <td>0000000.wav</td>\n",
              "      <td>4</td>\n",
              "      <td>S73</td>\n",
              "      <td>question</td>\n",
              "    </tr>\n",
              "    <tr>\n",
              "      <th>1</th>\n",
              "      <td>0000001.wav</td>\n",
              "      <td>2</td>\n",
              "      <td>S88</td>\n",
              "      <td>excited</td>\n",
              "    </tr>\n",
              "    <tr>\n",
              "      <th>2</th>\n",
              "      <td>0000002.wav</td>\n",
              "      <td>70</td>\n",
              "      <td>S5</td>\n",
              "      <td>neutral</td>\n",
              "    </tr>\n",
              "    <tr>\n",
              "      <th>3</th>\n",
              "      <td>0000003.wav</td>\n",
              "      <td>2</td>\n",
              "      <td>S85</td>\n",
              "      <td>bored</td>\n",
              "    </tr>\n",
              "    <tr>\n",
              "      <th>4</th>\n",
              "      <td>0000004.wav</td>\n",
              "      <td>4</td>\n",
              "      <td>S30</td>\n",
              "      <td>excited</td>\n",
              "    </tr>\n",
              "    <tr>\n",
              "      <th>...</th>\n",
              "      <td>...</td>\n",
              "      <td>...</td>\n",
              "      <td>...</td>\n",
              "      <td>...</td>\n",
              "    </tr>\n",
              "    <tr>\n",
              "      <th>19995</th>\n",
              "      <td>0019995.wav</td>\n",
              "      <td>90</td>\n",
              "      <td>S163</td>\n",
              "      <td>excited</td>\n",
              "    </tr>\n",
              "    <tr>\n",
              "      <th>19996</th>\n",
              "      <td>0019996.wav</td>\n",
              "      <td>10</td>\n",
              "      <td>S99</td>\n",
              "      <td>question</td>\n",
              "    </tr>\n",
              "    <tr>\n",
              "      <th>19997</th>\n",
              "      <td>0019997.wav</td>\n",
              "      <td>90</td>\n",
              "      <td>S46</td>\n",
              "      <td>question</td>\n",
              "    </tr>\n",
              "    <tr>\n",
              "      <th>19998</th>\n",
              "      <td>0019998.wav</td>\n",
              "      <td>19</td>\n",
              "      <td>S13</td>\n",
              "      <td>neutral</td>\n",
              "    </tr>\n",
              "    <tr>\n",
              "      <th>19999</th>\n",
              "      <td>0019999.wav</td>\n",
              "      <td>20</td>\n",
              "      <td>S101</td>\n",
              "      <td>neutral</td>\n",
              "    </tr>\n",
              "  </tbody>\n",
              "</table>\n",
              "<p>20000 rows × 4 columns</p>\n",
              "</div>"
            ],
            "text/plain": [
              "           File ID  digit_label participant intonation\n",
              "0      0000000.wav            4         S73   question\n",
              "1      0000001.wav            2         S88    excited\n",
              "2      0000002.wav           70          S5    neutral\n",
              "3      0000003.wav            2         S85      bored\n",
              "4      0000004.wav            4         S30    excited\n",
              "...            ...          ...         ...        ...\n",
              "19995  0019995.wav           90        S163    excited\n",
              "19996  0019996.wav           10         S99   question\n",
              "19997  0019997.wav           90         S46   question\n",
              "19998  0019998.wav           19         S13    neutral\n",
              "19999  0019999.wav           20        S101    neutral\n",
              "\n",
              "[20000 rows x 4 columns]"
            ]
          },
          "metadata": {
            "tags": []
          },
          "execution_count": 11
        }
      ]
    },
    {
      "cell_type": "markdown",
      "metadata": {
        "id": "2_p3i6H2eYhU"
      },
      "source": [
        "We can see that the file consists of 20k rows and 4 columns. Each row corresponds to one of the items in our dataset, and each item is described by four attributes:\n",
        "\n",
        "\n",
        "1.   File ID (audio file)\n",
        "2.   Numeral\n",
        "3.   Participant ID\n",
        "4.   Intonation\n",
        "\n",
        "We can explore this dataset further and identify how many items we have per numeral, per individual and per intonation."
      ]
    },
    {
      "cell_type": "code",
      "metadata": {
        "id": "fcNv9Sg94fp5",
        "colab": {
          "base_uri": "https://localhost:8080/"
        },
        "outputId": "2538f5c0-9a88-4444-9fcc-9383edfc3b8c"
      },
      "source": [
        "labels['participant'].value_counts()\n",
        "labels['digit_label'].value_counts()\n",
        "labels['intonation'].value_counts()"
      ],
      "execution_count": 12,
      "outputs": [
        {
          "output_type": "execute_result",
          "data": {
            "text/plain": [
              "neutral     5000\n",
              "question    5000\n",
              "excited     5000\n",
              "bored       5000\n",
              "Name: intonation, dtype: int64"
            ]
          },
          "metadata": {
            "tags": []
          },
          "execution_count": 12
        }
      ]
    },
    {
      "cell_type": "markdown",
      "metadata": {
        "id": "2OrJbWwBXbqw"
      },
      "source": [
        "# Part I: Basic solution"
      ]
    },
    {
      "cell_type": "markdown",
      "metadata": {
        "id": "38EC3IOcZPJx"
      },
      "source": [
        "In this section, we build a model for predicting the intonation of a short audio segment.\n",
        "\n",
        "Audio files are complex data types. Specifically they are **discrete signals** or **time series**, consisting of values on a 1D grid. These values are known as *samples*. The **sampling frequency** is the rate at which samples in an audio file are produced.\n",
        "\n",
        "Below, we plot one of our audio signals.\n"
      ]
    },
    {
      "cell_type": "code",
      "metadata": {
        "id": "c5cnTI_-uuEL",
        "colab": {
          "base_uri": "https://localhost:8080/",
          "height": 336
        },
        "outputId": "69258bea-8c3c-494b-fb2e-b781aead7017"
      },
      "source": [
        "n=0\n",
        "fs = None # Sampling frequency. If None, fs would be 22050\n",
        "x, fs = librosa.load(files[n],sr=fs)\n",
        "t = np.arange(len(x))/fs\n",
        "plt.plot(t,x)\n",
        "plt.xlabel('time (sec)')\n",
        "plt.ylabel('amplitude')\n",
        "plt.show()\n",
        "display(ipd.Audio(files[n]))"
      ],
      "execution_count": 13,
      "outputs": [
        {
          "output_type": "display_data",
          "data": {
            "image/png": "[encoded data removed]",
            "text/plain": [
              "<Figure size 432x288 with 1 Axes>"
            ]
          },
          "metadata": {
            "tags": [],
            "needs_background": "light"
          }
        },
        {
          "output_type": "display_data",
          "data": {
            "text/html": [
              "\n",
              "                <audio controls=\"controls\" >\n",
              "                    <source src=\"data:audio/x-wav;base64,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\" type=\"audio/x-wav\" />\n",
              "                    Your browser does not support the audio element.\n",
              "                </audio>\n",
              "              "
            ],
            "text/plain": [
              "<IPython.lib.display.Audio object>"
            ]
          },
          "metadata": {
            "tags": []
          }
        }
      ]
    },
    {
      "cell_type": "markdown",
      "metadata": {
        "id": "ut38gAF_dOed"
      },
      "source": [
        "We can then look at the number of samples in one of our audio files:"
      ]
    },
    {
      "cell_type": "code",
      "metadata": {
        "colab": {
          "base_uri": "https://localhost:8080/"
        },
        "id": "lwu3vD_hdWiD",
        "outputId": "dc9f3e3d-619c-49fc-9852-163aa3a341b5"
      },
      "source": [
        "n=0\n",
        "x, fs = librosa.load(files[n],sr=fs)\n",
        "print('This audio signal has', len(x), 'samples')"
      ],
      "execution_count": 14,
      "outputs": [
        {
          "output_type": "stream",
          "text": [
            "This audio signal has 28928 samples\n"
          ],
          "name": "stdout"
        }
      ]
    },
    {
      "cell_type": "markdown",
      "metadata": {
        "id": "0uCB_xj8k0VR"
      },
      "source": [
        "If we are using a raw audio signal as a predictor, we will be operating in a predictor space consisting of tens of thousands of dimensions. \n",
        "\n",
        "A common approach is therefore to extract certain features from our signals and use these features instead as predictors. In the following cell, we define a function that extracts four features from an audio signal, namely:\n",
        "\n",
        "1.   Power.\n",
        "2.   Pitch mean.\n",
        "3.   Pitch standard deviation.\n",
        "4.   Fraction of voiced region.\n",
        "\n",
        "In the next cell, we define a new function that gets the pitch of an audio signal."
      ]
    },
    {
      "cell_type": "code",
      "metadata": {
        "id": "ud_GjiV1ui5p"
      },
      "source": [
        "def getPitch(x,fs,winLen=0.02):\n",
        "  #winLen = 0.02 \n",
        "  p = winLen*fs\n",
        "  frame_length = int(2**int(p-1).bit_length())\n",
        "  hop_length = frame_length//2\n",
        "  f0, voiced_flag, voiced_probs = librosa.pyin(y=x, fmin=80, fmax=450, sr=fs,\n",
        "                                                 frame_length=frame_length,hop_length=hop_length)\n",
        "  return f0,voiced_flag"
      ],
      "execution_count": 18,
      "outputs": []
    },
    {
      "cell_type": "markdown",
      "metadata": {
        "id": "UoLd6MDyn4pZ"
      },
      "source": [
        "Now, let's build a model that predicts the intonation of a short audio segment. The next cell defines a function that takes a number of files and creates a NumPy array containing the 4 audio features used as predictors (`X`) and their labels (`y`). "
      ]
    },
    {
      "cell_type": "code",
      "metadata": {
        "id": "e7u8Yl359SQ_"
      },
      "source": [
        "def getXy(files,labels_file,scale_audio=False, onlySingleDigit=False):\n",
        "  X,y =[],[]\n",
        "  for file in tqdm(files):\n",
        "    fileID = file.split('/')[-1]\n",
        "    yi = list(labels_file[labels_file['File ID']==fileID]['intonation'])[0]\n",
        "\n",
        "    fs = None # if None, fs would be 22050\n",
        "    x, fs = librosa.load(file,sr=fs)\n",
        "    if scale_audio: x = x/np.max(np.abs(x))\n",
        "    f0, voiced_flag = getPitch(x,fs,winLen=0.02)\n",
        "      \n",
        "    power = np.sum(x**2)/len(x)\n",
        "    pitch_mean = np.nanmean(f0) if np.mean(np.isnan(f0))<1 else 0\n",
        "    pitch_std  = np.nanstd(f0) if np.mean(np.isnan(f0))<1 else 0\n",
        "    voiced_fr = np.mean(voiced_flag)\n",
        "\n",
        "    xi = [power,pitch_mean,pitch_std,voiced_fr]\n",
        "    X.append(xi)\n",
        "    y.append(yi)\n",
        "  return np.array(X),np.array(y)"
      ],
      "execution_count": 19,
      "outputs": []
    },
    {
      "cell_type": "markdown",
      "metadata": {
        "id": "-ZQtxjdXnB2t"
      },
      "source": [
        "Next, we apply `getXy` to a sample of audio files. Note, I am only using the first 500 samples in our dataset simply to reduce computational time. However, one should note that reducing the sample size will have an impact on the reliability and confidence in  my model. In practice, I would seek to use all 20,000 samples in my dataset since the confidence of the result is likely to increase with a higher sample size."
      ]
    },
    {
      "cell_type": "code",
      "metadata": {
        "colab": {
          "base_uri": "https://localhost:8080/"
        },
        "id": "HlBvqCV1tE5e",
        "outputId": "13859f33-40c7-494c-bad9-abc7cc738523"
      },
      "source": [
        "X,y = getXy(files[:500],labels_file=labels,scale_audio=True)"
      ],
      "execution_count": 20,
      "outputs": [
        {
          "output_type": "stream",
          "text": [
            "100%|██████████| 500/500 [04:30<00:00,  1.85it/s]\n"
          ],
          "name": "stderr"
        }
      ]
    },
    {
      "cell_type": "markdown",
      "metadata": {
        "id": "xzzc9SBNpNAj"
      },
      "source": [
        "The next cell shows the shape of `X` and `y` and prints the labels vector `y`:"
      ]
    },
    {
      "cell_type": "code",
      "metadata": {
        "id": "1GxJh336FouZ",
        "colab": {
          "base_uri": "https://localhost:8080/"
        },
        "outputId": "2ef911b5-3ad2-47de-d6de-61a77fd74358"
      },
      "source": [
        "print('The shape of X is', X.shape) \n",
        "print('The shape of y is', y.shape)\n",
        "print('The labels vector is', y)"
      ],
      "execution_count": 21,
      "outputs": [
        {
          "output_type": "stream",
          "text": [
            "The shape of X is (500, 4)\n",
            "The shape of y is (500,)\n",
            "The labels vector is ['question' 'bored' 'question' 'neutral' 'question' 'excited' 'neutral'\n",
            " 'excited' 'question' 'question' 'bored' 'neutral' 'question' 'bored'\n",
            " 'neutral' 'question' 'neutral' 'excited' 'excited' 'excited' 'neutral'\n",
            " 'question' 'question' 'neutral' 'excited' 'bored' 'neutral' 'question'\n",
            " 'bored' 'question' 'bored' 'excited' 'question' 'bored' 'question'\n",
            " 'bored' 'question' 'excited' 'excited' 'excited' 'bored' 'excited'\n",
            " 'excited' 'question' 'excited' 'question' 'neutral' 'question' 'excited'\n",
            " 'neutral' 'question' 'neutral' 'question' 'neutral' 'neutral' 'excited'\n",
            " 'excited' 'neutral' 'question' 'question' 'neutral' 'bored' 'bored'\n",
            " 'excited' 'question' 'neutral' 'neutral' 'excited' 'bored' 'neutral'\n",
            " 'neutral' 'bored' 'bored' 'excited' 'excited' 'neutral' 'excited' 'bored'\n",
            " 'excited' 'question' 'excited' 'bored' 'question' 'neutral' 'bored'\n",
            " 'excited' 'bored' 'question' 'excited' 'bored' 'question' 'bored'\n",
            " 'question' 'question' 'question' 'excited' 'excited' 'question'\n",
            " 'question' 'bored' 'neutral' 'neutral' 'neutral' 'excited' 'bored'\n",
            " 'question' 'neutral' 'bored' 'question' 'neutral' 'excited' 'question'\n",
            " 'bored' 'bored' 'excited' 'excited' 'neutral' 'neutral' 'bored' 'excited'\n",
            " 'bored' 'excited' 'neutral' 'excited' 'bored' 'bored' 'excited' 'excited'\n",
            " 'neutral' 'question' 'excited' 'bored' 'neutral' 'bored' 'excited'\n",
            " 'question' 'question' 'excited' 'bored' 'question' 'neutral' 'question'\n",
            " 'bored' 'excited' 'bored' 'question' 'question' 'bored' 'neutral'\n",
            " 'neutral' 'bored' 'question' 'question' 'excited' 'question' 'neutral'\n",
            " 'excited' 'question' 'excited' 'excited' 'question' 'excited' 'question'\n",
            " 'bored' 'excited' 'bored' 'question' 'excited' 'bored' 'question'\n",
            " 'excited' 'excited' 'excited' 'neutral' 'question' 'question' 'question'\n",
            " 'excited' 'question' 'bored' 'excited' 'question' 'excited' 'neutral'\n",
            " 'question' 'excited' 'question' 'neutral' 'excited' 'excited' 'bored'\n",
            " 'excited' 'neutral' 'excited' 'bored' 'bored' 'neutral' 'excited'\n",
            " 'question' 'neutral' 'neutral' 'excited' 'question' 'neutral' 'bored'\n",
            " 'excited' 'excited' 'question' 'bored' 'neutral' 'question' 'bored'\n",
            " 'bored' 'question' 'question' 'neutral' 'neutral' 'excited' 'neutral'\n",
            " 'neutral' 'excited' 'question' 'bored' 'excited' 'question' 'excited'\n",
            " 'neutral' 'excited' 'excited' 'bored' 'bored' 'excited' 'neutral'\n",
            " 'question' 'question' 'excited' 'neutral' 'question' 'excited' 'neutral'\n",
            " 'neutral' 'bored' 'bored' 'bored' 'excited' 'neutral' 'excited' 'excited'\n",
            " 'excited' 'excited' 'bored' 'neutral' 'question' 'neutral' 'bored'\n",
            " 'neutral' 'neutral' 'question' 'bored' 'bored' 'question' 'bored'\n",
            " 'excited' 'excited' 'neutral' 'excited' 'bored' 'neutral' 'neutral'\n",
            " 'question' 'excited' 'question' 'excited' 'excited' 'bored' 'question'\n",
            " 'bored' 'question' 'question' 'bored' 'neutral' 'bored' 'neutral'\n",
            " 'question' 'bored' 'bored' 'excited' 'question' 'question' 'excited'\n",
            " 'bored' 'excited' 'bored' 'bored' 'bored' 'excited' 'neutral' 'question'\n",
            " 'question' 'excited' 'neutral' 'bored' 'neutral' 'excited' 'question'\n",
            " 'neutral' 'neutral' 'bored' 'bored' 'excited' 'bored' 'bored' 'bored'\n",
            " 'bored' 'bored' 'neutral' 'neutral' 'question' 'question' 'excited'\n",
            " 'question' 'neutral' 'question' 'excited' 'bored' 'neutral' 'bored'\n",
            " 'question' 'bored' 'neutral' 'question' 'neutral' 'question' 'bored'\n",
            " 'excited' 'neutral' 'question' 'question' 'question' 'bored' 'excited'\n",
            " 'excited' 'neutral' 'neutral' 'question' 'bored' 'excited' 'excited'\n",
            " 'excited' 'bored' 'bored' 'neutral' 'neutral' 'excited' 'bored' 'bored'\n",
            " 'bored' 'neutral' 'neutral' 'excited' 'bored' 'excited' 'bored' 'neutral'\n",
            " 'question' 'excited' 'question' 'question' 'bored' 'question' 'question'\n",
            " 'bored' 'question' 'bored' 'question' 'neutral' 'neutral' 'question'\n",
            " 'excited' 'question' 'excited' 'neutral' 'neutral' 'bored' 'excited'\n",
            " 'question' 'bored' 'bored' 'bored' 'question' 'bored' 'excited' 'neutral'\n",
            " 'excited' 'question' 'excited' 'question' 'bored' 'bored' 'neutral'\n",
            " 'excited' 'question' 'neutral' 'bored' 'excited' 'excited' 'bored'\n",
            " 'excited' 'neutral' 'question' 'question' 'question' 'excited' 'bored'\n",
            " 'excited' 'neutral' 'excited' 'question' 'question' 'excited' 'excited'\n",
            " 'neutral' 'neutral' 'neutral' 'excited' 'excited' 'bored' 'question'\n",
            " 'neutral' 'excited' 'bored' 'bored' 'neutral' 'question' 'question'\n",
            " 'excited' 'excited' 'question' 'bored' 'excited' 'question' 'question'\n",
            " 'question' 'bored' 'question' 'neutral' 'excited' 'question' 'excited'\n",
            " 'excited' 'question' 'bored' 'neutral' 'question' 'question' 'excited'\n",
            " 'bored' 'excited' 'excited' 'excited' 'question' 'bored' 'bored'\n",
            " 'excited' 'question' 'neutral' 'question' 'excited' 'question' 'question'\n",
            " 'neutral' 'neutral' 'question' 'excited' 'bored' 'neutral' 'excited'\n",
            " 'excited' 'excited' 'excited' 'excited' 'question' 'bored' 'neutral'\n",
            " 'bored' 'neutral' 'question' 'excited' 'excited' 'neutral' 'question'\n",
            " 'neutral' 'neutral' 'bored' 'excited' 'bored' 'bored' 'excited' 'excited'\n",
            " 'question']\n"
          ],
          "name": "stdout"
        }
      ]
    },
    {
      "cell_type": "markdown",
      "metadata": {
        "id": "KO-4Vr00p7v6"
      },
      "source": [
        "Finally, to be on the cautious side, we eliminate any potential item with a NaN (*not a number*)."
      ]
    },
    {
      "cell_type": "code",
      "metadata": {
        "id": "K_vWpzO-HZn9",
        "colab": {
          "base_uri": "https://localhost:8080/"
        },
        "outputId": "d54f25a6-10e3-4853-8169-908ed8fc5352"
      },
      "source": [
        "# If nan sample, remove them\n",
        "if np.sum(np.isnan(X)):\n",
        "  idx = np.isnan(X).sum(1)>0\n",
        "  X = X[~idx]\n",
        "  y = y[~idx]\n",
        "print(np.sum(np.isnan(X)))"
      ],
      "execution_count": 22,
      "outputs": [
        {
          "output_type": "stream",
          "text": [
            "0\n"
          ],
          "name": "stdout"
        }
      ]
    },
    {
      "cell_type": "code",
      "metadata": {
        "id": "N0sZZRZaYrY0",
        "colab": {
          "base_uri": "https://localhost:8080/"
        },
        "outputId": "78a990d3-5c96-4bf3-b4df-8c2752e5e51b"
      },
      "source": [
        "X.shape"
      ],
      "execution_count": 23,
      "outputs": [
        {
          "output_type": "execute_result",
          "data": {
            "text/plain": [
              "(500, 4)"
            ]
          },
          "metadata": {
            "tags": []
          },
          "execution_count": 23
        }
      ]
    },
    {
      "cell_type": "markdown",
      "metadata": {
        "id": "YtsNkjyfFvAQ"
      },
      "source": [
        "For the predictive task of identifying the intonation of an audio signal using the dataset just created, we build a support vector machine (SVM) model. We use the SVM method provided by `scikit-learn` and split the dataset defined by `X` and `y` into a training set and a validation set. The proportion of data assigned for training and validation purposes can vary depending on a number of factors including the training/validation methodology employed. However, it is fairly common to adopt an 80:20 (training:validation) split as we have done below. "
      ]
    },
    {
      "cell_type": "code",
      "metadata": {
        "id": "1x2nXS1W_h9r",
        "colab": {
          "base_uri": "https://localhost:8080/"
        },
        "outputId": "d272e6a9-238c-4cdf-836b-90a22cd0ccfc"
      },
      "source": [
        "from sklearn import svm\n",
        "from sklearn.model_selection import train_test_split\n",
        "\n",
        "X_train, X_val, y_train, y_val = train_test_split(X,y,test_size=0.2)\n",
        "X_train.shape, X_val.shape, y_train.shape, y_val.shape"
      ],
      "execution_count": 24,
      "outputs": [
        {
          "output_type": "execute_result",
          "data": {
            "text/plain": [
              "((400, 4), (100, 4), (400,), (100,))"
            ]
          },
          "metadata": {
            "tags": []
          },
          "execution_count": 24
        }
      ]
    },
    {
      "cell_type": "markdown",
      "metadata": {
        "id": "prKzWLxh0dON"
      },
      "source": [
        "Next, we fit a SVM model and print both the training accuracy and validation accuracy."
      ]
    },
    {
      "cell_type": "code",
      "metadata": {
        "id": "ZwbJZTTiATWT",
        "colab": {
          "base_uri": "https://localhost:8080/"
        },
        "outputId": "7fa906e5-83c6-44b3-f28b-1f8d64d2c96e"
      },
      "source": [
        "model  = svm.SVC(C=1)\n",
        "model.fit(X_train,y_train)\n",
        "\n",
        "yt_p = model.predict(X_train)\n",
        "yv_p = model.predict(X_val)\n",
        "\n",
        "print('Training Accuracy', np.mean(yt_p==y_train))\n",
        "print('Validation  Accuracy', np.mean(yv_p==y_val))"
      ],
      "execution_count": 25,
      "outputs": [
        {
          "output_type": "stream",
          "text": [
            "Training Accuracy 0.46\n",
            "Validation  Accuracy 0.48\n"
          ],
          "name": "stdout"
        }
      ]
    },
    {
      "cell_type": "markdown",
      "metadata": {
        "id": "Z794js6R2NZn"
      },
      "source": [
        "We can observe that the training and validation accuracies are both approximately 0.5 (rounded to the nearest 1 decimal place). In comparison, we would expect the accuracy of a random classifier to be 0.25 (1 divided by the number of intonation classes which in this case is 4). We could therefore argue that our model is performing twice as well as a random classifier. However, it should be noted that 0.46 training accuracy and 0.48 prediction accuracy are both relatively low accuracy statistics. With our model predicting less than half of intonations correctly, we would not have a high degree of confidence in deploying this model. \n",
        "\n",
        "Next, we normalise the predictors to see if the performance improves."
      ]
    },
    {
      "cell_type": "code",
      "metadata": {
        "id": "Ixu4QncI2OOB",
        "colab": {
          "base_uri": "https://localhost:8080/"
        },
        "outputId": "70e922ae-a4a2-4242-f45e-72f2ab37168f"
      },
      "source": [
        "mean = X_train.mean(0)\n",
        "sd =  X_train.std(0)\n",
        "\n",
        "X_train = (X_train-mean)/sd\n",
        "X_val  = (X_val-mean)/sd\n",
        "\n",
        "model  = svm.SVC(C=1,gamma=2)\n",
        "model.fit(X_train,y_train)\n",
        "\n",
        "yt_p = model.predict(X_train)\n",
        "yv_p = model.predict(X_val)\n",
        "\n",
        "print('Training Accuracy', np.mean(yt_p==y_train))\n",
        "print('Validation  Accuracy', np.mean(yv_p==y_val))"
      ],
      "execution_count": 26,
      "outputs": [
        {
          "output_type": "stream",
          "text": [
            "Training Accuracy 0.7475\n",
            "Validation  Accuracy 0.47\n"
          ],
          "name": "stdout"
        }
      ]
    },
    {
      "cell_type": "markdown",
      "metadata": {
        "id": "m2_8uRg036iC"
      },
      "source": [
        "We can see that normalising the predictors has significantly improved our training accuracy. However, it has has very little effect on validation accuracy (actually decreasing it by 0.01). \n",
        "\n",
        "Based on this information, we cannot categorically say whether this classifier is better or worse than the previous one. Nor can we say that this classifier can predict the intonations of audio signals with a high degree of confidence. \n",
        "\n",
        "As a next step, we could try increasing the sample size to see what effect this has on accuracies, or we extract different audio features and attempt to build a better classifier using a different set of features."
      ]
    },
    {
      "cell_type": "markdown",
      "metadata": {
        "id": "a9Tbog8YTRZ9"
      },
      "source": [
        "# Part II: Advanced solution\n",
        "\n",
        "In this section, we build a model which attempts to correctly predict bingo numbers (i.e. numbers 1 to 90) from a short sequence. To do this, we build a KNN model for the predictive task of identifying digits in an audio signal."
      ]
    },
    {
      "cell_type": "markdown",
      "metadata": {
        "id": "bG7b6ZPp4F18"
      },
      "source": [
        "First, we define a function that takes a number of files a creates a NumPy array containing the 4 audio features we used in Part I as predictors (x) and their labels (y)."
      ]
    },
    {
      "cell_type": "code",
      "metadata": {
        "id": "nJSXZPjr4TV3"
      },
      "source": [
        "def getXy(files,labels_file,scale_audio=False, onlySingleDigit=False):\n",
        "  X,y =[],[]\n",
        "  for file in tqdm(files):\n",
        "    fileID = file.split('/')[-1]\n",
        "    yi = list(labels_file[labels_file['File ID']==fileID]['digit_label'])[0]\n",
        "    if yi<1 or yi>90:\n",
        "      continue\n",
        "    else:\n",
        "      fs = None # if None, fs would be 22050\n",
        "      x, fs = librosa.load(file,sr=fs)\n",
        "      if scale_audio: x = x/np.max(np.abs(x))\n",
        "      f0, voiced_flag = getPitch(x,fs,winLen=0.02)\n",
        "      \n",
        "      power = np.sum(x**2)/len(x)\n",
        "      pitch_mean = np.nanmean(f0) if np.mean(np.isnan(f0))<1 else 0\n",
        "      pitch_std  = np.nanstd(f0) if np.mean(np.isnan(f0))<1 else 0\n",
        "      voiced_fr = np.mean(voiced_flag)\n",
        "\n",
        "      xi = [power,pitch_mean,pitch_std,voiced_fr]\n",
        "      X.append(xi)\n",
        "      y.append(yi)\n",
        "  return np.array(X),np.array(y)"
      ],
      "execution_count": 51,
      "outputs": []
    },
    {
      "cell_type": "markdown",
      "metadata": {
        "id": "0SIlpNOR5NhV"
      },
      "source": [
        "Again, we apply getXy to the first 500 audio files. Note that the first 500 files contain numerals greater than 90 and less than 1 (i.e. 0), which we discard."
      ]
    },
    {
      "cell_type": "code",
      "metadata": {
        "colab": {
          "base_uri": "https://localhost:8080/"
        },
        "id": "-6mZc6az5IRX",
        "outputId": "69fc0d26-6d44-403b-985a-7a40ca116030"
      },
      "source": [
        "X,y = getXy(files[:500],labels_file=labels,scale_audio=True)"
      ],
      "execution_count": 55,
      "outputs": [
        {
          "output_type": "stream",
          "text": [
            "100%|██████████| 500/500 [02:03<00:00,  4.04it/s]\n"
          ],
          "name": "stderr"
        }
      ]
    },
    {
      "cell_type": "markdown",
      "metadata": {
        "id": "ahXZCahD5wIv"
      },
      "source": [
        "The next cell shows the shape of `X` and `y` and prints the labels vector `y`:"
      ]
    },
    {
      "cell_type": "code",
      "metadata": {
        "colab": {
          "base_uri": "https://localhost:8080/"
        },
        "id": "Iudx3hk251S8",
        "outputId": "2b743507-3129-43c5-f9b0-d8aa121e690e"
      },
      "source": [
        "print('The shape of X is', X.shape) \n",
        "print('The shape of y is', y.shape)\n",
        "print('The labels vector is', y)"
      ],
      "execution_count": 56,
      "outputs": [
        {
          "output_type": "stream",
          "text": [
            "The shape of X is (422, 4)\n",
            "The shape of y is (422,)\n",
            "The labels vector is [ 3  2 40 19  7 19 11  9 30 15  3 30  9 18 15 16  4 90 90 16  8 12 14 20\n",
            "  6 10 40 18  6 20 18 11 14  7  9 70  9 70  2  1  5 17 12  9 30 17 20 50\n",
            " 15 18 18  7  5  3 50 19  7  6  4  4 19 15 19 60 70  9 40 18  9 30  1 60\n",
            "  5  7 70  4  4 12 18  4 10 16 13 13 20  6  8  9  2  7 17 12 60 90 11  2\n",
            " 10 50  2 90 80  6 14  2  1 15 19 20 18 70 14  5 18 30  9 19 90 17 60 11\n",
            " 90 10  7 80  7 80 16 60  4  9  8  6  6 11 90  3 10  3 20 40 70 12 13  7\n",
            "  1 11 70  7 15 30 30  4  4 15  3  7 60  7 12  5 80 14  5  7  5  2 40 30\n",
            " 80  5 16 13  1  9 19  4  9 15 70  6  5 80 13  4 20  6 80  4  6  4 40 12\n",
            " 11 15 13 12 40 50 12 10 90  7 18  1 16 15 12  4  7 70 13 17  3 60  5 70\n",
            " 15  8  1  4 19 20  5 14 40 18  4  4  9 15 14  1 50  6 12 15 90  1 12 15\n",
            " 17 90  7  1 15  7 30  1 17  2 40 60 10  2 13  4  6 13 18 40 13 12 70 16\n",
            " 19 11  7  2  7 19  3 14 11  2  1  4  8 14  8 30 70  8  6 17 12 30 90  3\n",
            " 10 90 14 18  9 90 40 90 16  4  9 90  2 17 10  5  4 19 16 60 70  1 60 15\n",
            " 12 11 15 50  7  4  6 90  1 16 50  7  6  8  2 60  2 80  8 11 40 50  7  2\n",
            " 15  1 16 50 18 80  7 90  1  3 50 20 80 50  9 19 14 11  8 17  2 16  7 10\n",
            " 30 20  6  5 11 70 16 20 18 60  3 80  5 50  4 16 14 30 80 17  4 90 15  4\n",
            " 40 14 18 15  6  8 30 60  1 60  4  6  9 12  6 13  9  9 15  1 13  2 13  3\n",
            " 15 13 17 60 17 80 90  7 40  3 12 12  2 40]\n"
          ],
          "name": "stdout"
        }
      ]
    },
    {
      "cell_type": "markdown",
      "metadata": {
        "id": "clSA6-Ub4GFn"
      },
      "source": [
        "We then use the KNeighborsClassifier() method provided by scikit-learn and split the dataset defined by x and y into a training set and a validation set."
      ]
    },
    {
      "cell_type": "code",
      "metadata": {
        "colab": {
          "base_uri": "https://localhost:8080/"
        },
        "id": "aAe1VwAoA7Pj",
        "outputId": "ab609ca5-9881-49cf-bca3-5d63dd6398ad"
      },
      "source": [
        "from sklearn import svm\n",
        "from sklearn.model_selection import train_test_split\n",
        "\n",
        "X_train, X_val, y_train, y_val = train_test_split(X,y,test_size=0.2)\n",
        "X_train.shape, X_val.shape, y_train.shape, y_val.shape"
      ],
      "execution_count": 57,
      "outputs": [
        {
          "output_type": "execute_result",
          "data": {
            "text/plain": [
              "((337, 4), (85, 4), (337,), (85,))"
            ]
          },
          "metadata": {
            "tags": []
          },
          "execution_count": 57
        }
      ]
    },
    {
      "cell_type": "markdown",
      "metadata": {
        "id": "xjdYT2FVB1AP"
      },
      "source": [
        "Next, we fit a KNN model and print both the training accuracy and validation accuracy."
      ]
    },
    {
      "cell_type": "code",
      "metadata": {
        "colab": {
          "base_uri": "https://localhost:8080/"
        },
        "id": "ttz80pESBwcO",
        "outputId": "0a3107a7-eb3b-4102-b415-514273f08d1c"
      },
      "source": [
        "from sklearn.neighbors import KNeighborsClassifier\n",
        "model  = KNeighborsClassifier()\n",
        "model.fit(X_train,y_train)\n",
        "\n",
        "yt_p = model.predict(X_train)\n",
        "yv_p = model.predict(X_val)\n",
        "\n",
        "print('Training Accuracy', np.mean(yt_p==y_train))\n",
        "print('Validation  Accuracy', np.mean(yv_p==y_val))"
      ],
      "execution_count": 58,
      "outputs": [
        {
          "output_type": "stream",
          "text": [
            "Training Accuracy 0.2818991097922849\n",
            "Validation  Accuracy 0.023529411764705882\n"
          ],
          "name": "stdout"
        }
      ]
    },
    {
      "cell_type": "markdown",
      "metadata": {
        "id": "b1qKICyEB-rk"
      },
      "source": [
        "We use GridSearchCV to find the best hyperparameter for the model."
      ]
    },
    {
      "cell_type": "code",
      "metadata": {
        "colab": {
          "base_uri": "https://localhost:8080/"
        },
        "id": "FXDLhAmcB8Kq",
        "outputId": "5d1a9c32-5c2c-40b1-c3c8-7c3819d3da74"
      },
      "source": [
        "from sklearn.model_selection import GridSearchCV\n",
        "from sklearn.metrics import classification_report\n",
        "\n",
        "parameters = {'leaf_size':[1,50], 'n_neighbors':[1,30], 'p':[1,2]}\n",
        "knn = KNeighborsClassifier()\n",
        "grid = GridSearchCV(knn, parameters)\n",
        "# fitting the model for grid search \n",
        "grid.fit(X_train, y_train) \n",
        " \n",
        "# print best parameter after tuning \n",
        "print(grid.best_params_) \n",
        "grid_predictions = grid.predict(X_val)\n",
        "\n",
        "# print classification report \n",
        "print(classification_report(y_val, grid_predictions))"
      ],
      "execution_count": 65,
      "outputs": [
        {
          "output_type": "stream",
          "text": [
            "{'leaf_size': 1, 'n_neighbors': 30, 'p': 1}\n",
            "              precision    recall  f1-score   support\n",
            "\n",
            "           1       0.00      0.00      0.00         1\n",
            "           2       0.18      0.67      0.29         3\n",
            "           3       0.00      0.00      0.00         4\n",
            "           4       0.08      0.17      0.11         6\n",
            "           5       0.00      0.00      0.00         5\n",
            "           6       0.14      0.33      0.20         3\n",
            "           7       0.17      0.75      0.27         4\n",
            "           8       0.00      0.00      0.00         2\n",
            "           9       0.00      0.00      0.00         5\n",
            "          10       0.00      0.00      0.00         2\n",
            "          11       0.00      0.00      0.00         0\n",
            "          12       0.00      0.00      0.00         5\n",
            "          13       0.50      0.50      0.50         2\n",
            "          14       0.00      0.00      0.00         2\n",
            "          15       0.00      0.00      0.00         5\n",
            "          16       0.00      0.00      0.00         0\n",
            "          17       0.00      0.00      0.00         2\n",
            "          18       0.00      0.00      0.00         2\n",
            "          19       0.00      0.00      0.00         7\n",
            "          20       0.00      0.00      0.00         2\n",
            "          30       0.00      0.00      0.00         6\n",
            "          40       0.00      0.00      0.00         3\n",
            "          50       0.00      0.00      0.00         3\n",
            "          60       0.00      0.00      0.00         2\n",
            "          70       0.00      0.00      0.00         4\n",
            "          80       0.00      0.00      0.00         1\n",
            "          90       0.00      0.00      0.00         4\n",
            "\n",
            "    accuracy                           0.09        85\n",
            "   macro avg       0.04      0.09      0.05        85\n",
            "weighted avg       0.04      0.09      0.05        85\n",
            "\n"
          ],
          "name": "stdout"
        },
        {
          "output_type": "stream",
          "text": [
            "/usr/local/lib/python3.7/dist-packages/sklearn/metrics/_classification.py:1272: UndefinedMetricWarning: Precision and F-score are ill-defined and being set to 0.0 in labels with no predicted samples. Use `zero_division` parameter to control this behavior.\n",
            "  _warn_prf(average, modifier, msg_start, len(result))\n",
            "/usr/local/lib/python3.7/dist-packages/sklearn/metrics/_classification.py:1272: UndefinedMetricWarning: Recall and F-score are ill-defined and being set to 0.0 in labels with no true samples. Use `zero_division` parameter to control this behavior.\n",
            "  _warn_prf(average, modifier, msg_start, len(result))\n"
          ],
          "name": "stderr"
        }
      ]
    },
    {
      "cell_type": "markdown",
      "metadata": {
        "id": "WrUYwJGLDwER"
      },
      "source": [
        "Finally, let's normalise the predictors to see if the performance improves."
      ]
    },
    {
      "cell_type": "code",
      "metadata": {
        "colab": {
          "base_uri": "https://localhost:8080/"
        },
        "id": "zHLZKIYID0jp",
        "outputId": "225a4459-8bf3-4eb8-f736-0f0a81b296bf"
      },
      "source": [
        "mean = X_train.mean(0)\n",
        "sd =  X_train.std(0)\n",
        "\n",
        "X_train = (X_train-mean)/sd\n",
        "X_val  = (X_val-mean)/sd\n",
        "\n",
        "model  = KNeighborsClassifier(leaf_size=1, n_neighbors=30, p=1)\n",
        "model.fit(X_train,y_train)\n",
        "\n",
        "yt_p = model.predict(X_train)\n",
        "yv_p = model.predict(X_val)\n",
        "\n",
        "print('Training Accuracy', np.mean(yt_p==y_train))\n",
        "print('Validation  Accuracy', np.mean(yv_p==y_val))"
      ],
      "execution_count": 67,
      "outputs": [
        {
          "output_type": "stream",
          "text": [
            "Training Accuracy 0.16023738872403562\n",
            "Validation  Accuracy 0.09411764705882353\n"
          ],
          "name": "stdout"
        }
      ]
    },
    {
      "cell_type": "markdown",
      "metadata": {
        "id": "GbH_I_qS9Fd1"
      },
      "source": [
        "The low training and validation accuracies suggest the KNN method is a poor model for this type of problem. Instead, we will try a similar method to the one used in Part I (SVM model).\n",
        "\n"
      ]
    },
    {
      "cell_type": "code",
      "metadata": {
        "colab": {
          "base_uri": "https://localhost:8080/"
        },
        "id": "OKD4phtG-Au0",
        "outputId": "698c53e0-f209-4a33-ae16-f38ab9315445"
      },
      "source": [
        "model  = svm.SVC(C=1)\n",
        "model.fit(X_train,y_train)\n",
        "\n",
        "yt_p = model.predict(X_train)\n",
        "yv_p = model.predict(X_val)\n",
        "\n",
        "print('Training Accuracy', np.mean(yt_p==y_train))\n",
        "print('Validation  Accuracy', np.mean(yv_p==y_val))"
      ],
      "execution_count": 68,
      "outputs": [
        {
          "output_type": "stream",
          "text": [
            "Training Accuracy 0.2314540059347181\n",
            "Validation  Accuracy 0.08235294117647059\n"
          ],
          "name": "stdout"
        }
      ]
    },
    {
      "cell_type": "markdown",
      "metadata": {
        "id": "Gu5DnkGn-SEL"
      },
      "source": [
        "Again, let's try normalising the predictors to see if the performance improves."
      ]
    },
    {
      "cell_type": "code",
      "metadata": {
        "colab": {
          "base_uri": "https://localhost:8080/"
        },
        "id": "Nu55irET-Pv2",
        "outputId": "35d207df-94db-4e74-e755-178b3841b11e"
      },
      "source": [
        "mean = X_train.mean(0)\n",
        "sd =  X_train.std(0)\n",
        "\n",
        "X_train = (X_train-mean)/sd\n",
        "X_val  = (X_val-mean)/sd\n",
        "\n",
        "model  = svm.SVC(C=1,gamma=2)\n",
        "model.fit(X_train,y_train)\n",
        "\n",
        "yt_p = model.predict(X_train)\n",
        "yv_p = model.predict(X_val)\n",
        "\n",
        "print('Training Accuracy', np.mean(yt_p==y_train))\n",
        "print('Validation  Accuracy', np.mean(yv_p==y_val))"
      ],
      "execution_count": 69,
      "outputs": [
        {
          "output_type": "stream",
          "text": [
            "Training Accuracy 0.6172106824925816\n",
            "Validation  Accuracy 0.047058823529411764\n"
          ],
          "name": "stdout"
        }
      ]
    },
    {
      "cell_type": "markdown",
      "metadata": {
        "id": "bfbZbWIG-mRN"
      },
      "source": [
        "While normalising the predictors using the SVM model increased our training accuracy, it decreased our validation accuracy.\n",
        "\n",
        "Based on this information, we cannot claim that this classifier can correctly predict bingo numbers from a short audio segment with a high degree of confidence. \n",
        "\n",
        "Further exploration to improve our classifier might involve:\n",
        "\n",
        "*   Increasing the sample size.\n",
        "*   Using a dataset with a greater frequency of bingo numbers (e.g. one which contains every number from 1 through to 90).\n",
        "*   Extracting and using different audio features for our machine learning model e.g. Mel-frequency cepstral coefficients (MFCCs).\n",
        "*   Greater use of data visualisation techniques to inform the proposed modelling approach.\n",
        "*   Employing a different training/validation model e.g. cross-validation approach."
      ]
    }
  ]
}